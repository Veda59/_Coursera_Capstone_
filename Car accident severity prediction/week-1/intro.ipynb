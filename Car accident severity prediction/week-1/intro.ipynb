{
 "cells": [
  {
   "cell_type": "markdown",
   "metadata": {},
   "source": [
    "# Capstone Project - Car accident severity (Week 1)\n",
    "#### By Vedashree V K"
   ]
  },
  {
   "cell_type": "markdown",
   "metadata": {},
   "source": [
    "### INTRODUCTION"
   ]
  },
  {
   "cell_type": "markdown",
   "metadata": {},
   "source": [
    "### Car Accidents have become a part of our everday life, and also causes 1.35 million deaths in a year, and 3700 deaths in a single day, with millions more sus-taining serious injuries and living with long-term adverse health consequences. Globally, road crashes are a leading cause of death among young people, and the main cause of death among those aged 15-29 years. Road injuries are currently estimated to be the seventh leading cause of death across all age groups globally, and are predicted to become the seventh leading cause of death by 2030\n"
   ]
  },
  {
   "cell_type": "markdown",
   "metadata": {},
   "source": [
    "### Leveraging the tools and all the information nowadays available, an extensive analysis to predict tragic accidents and its severity would make a difference to the death toll. Analysing a signicant range of factors, including weather conditions, locality, type of road and lighting among others, an accurate prediction of the severity of the accidents can be performed. Thus, trends that commonly lead to severe incidents can help indentifying the highly severe accidents. This kind of information could be used by emergency services, to send the exact required sta and equipment to the place of the accident, leaving more resources available for accidents occurring simultaneously. Moreover, this severe accident situation can be warned to nearby hospitals which can have all the equipment ready for a severe intervention in advance, and thus saving countless lifes"
   ]
  }
 ],
 "metadata": {
  "kernelspec": {
   "display_name": "Python 3",
   "language": "python",
   "name": "python3"
  },
  "language_info": {
   "codemirror_mode": {
    "name": "ipython",
    "version": 3
   },
   "file_extension": ".py",
   "mimetype": "text/x-python",
   "name": "python",
   "nbconvert_exporter": "python",
   "pygments_lexer": "ipython3",
   "version": "3.8.3"
  }
 },
 "nbformat": 4,
 "nbformat_minor": 4
}
